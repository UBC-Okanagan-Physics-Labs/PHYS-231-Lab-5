{
 "cells": [
  {
   "cell_type": "markdown",
   "id": "011b78be",
   "metadata": {
    "deletable": false,
    "editable": false,
    "tags": []
   },
   "source": [
    "# <div style=\"background-color:rgba(204, 229, 255, 0.5); text-align:center; vertical-align: middle; padding:40px 0; margin-top:30px\"><span style=\"color:rgba(0, 76, 153, 1);\">PHYS 231 Lab #5<span style=\"color:rgba(0, 76, 153, 1);\"><span style=\"color:red\"> $\\to$ ($8$ possible marks)</span></span></div>\n",
    "\n",
    "### Due Thursday, Nov. 2 at 17:00 $-$ upload your .zip submission to the PHYS 231 Canvas Gradebook.\n",
    "    \n",
    "<font size =\"4\"><span style=\"color:purple\">We recommend that you complete this notebook using either the [Google Chrome](https://www.google.com/intl/en_ca/chrome/) or [Mozilla Firefox](https://www.mozilla.org/en-CA/firefox/new/) browser.  Chrome and Firefox are both available for Windows, Mac, and Linux operating systems.  The PHYS 121 Jupyter notebooks should work in other browsers, but we have specifically verfied that they work well in both Chrome and Firefox.</span></font>\n",
    "\n",
    "# Operational Ampliers: The Inverting Amplifier"
   ]
  },
  {
   "cell_type": "markdown",
   "id": "c490d607",
   "metadata": {
    "deletable": false,
    "editable": false,
    "tags": []
   },
   "source": [
    "***\n",
    "## Lab Learning Outcomes:\n",
    "By the end of the PHYS 231 Lab #5, students will be able to:\n",
    "* <b><span style=\"color:rgba(0, 153, 76, 1);\">Design, build, and test a practical op-amp based inverting amplifier.</span></b>\n",
    "* <b><span style=\"color:rgba(0, 153, 76, 1);\">Experimentally explore the limitations of op-amp circuits.</span></b>\n",
    "* <b><span style=\"color:rgba(0, 153, 76, 1);\">Use a log-log plot to examine the important characteristics of the inverting amplifier's frequency response.</span></b>"
   ]
  },
  {
   "cell_type": "markdown",
   "id": "fe9b2ee6",
   "metadata": {
    "deletable": false,
    "editable": false,
    "tags": []
   },
   "source": [
    "***\n",
    "## Autograding:\n",
    "The PHYS 231 Labs will make use of some autograding.  To make the autograding work, the two cells below needs to be executed.  The first one installs the required packages and the second imports required packages/modules.  If 'PHYS231.Installer()' reports that some functions have been installed, the user should restart the \"kernel\" and then exectute the PHYS231.Installer() cell a second time.  The second time the installer function is run, it should report that **\"All packages already installed. Please proceed\"**.\n",
    "\n",
    "If necessary, the kernel can be restarted by selecting **Kernel** $\\to$ **Restart Kernel** from the menu options at to the top of the page.  Here is a <a href = \"https://raw.githubusercontent.com/UBC-Okanagan-Physics-Labs/PHYS-121-images/main/general/gifs/restartKernel.gif\">GIF</a> showing how to restart the kernel.\n",
    "\n",
    "The 'PHYS231.Installer()' command requires the file 'PHYS231.py', which you should see included in the list of files along the left-hand side of the screen."
   ]
  },
  {
   "cell_type": "code",
   "execution_count": null,
   "id": "83785b6e",
   "metadata": {
    "deletable": false,
    "editable": false,
    "tags": []
   },
   "outputs": [],
   "source": [
    "# Import PHYS121.py and then run the installer function.\n",
    "import PHYS231\n",
    "PHYS231.Installer()"
   ]
  },
  {
   "cell_type": "code",
   "execution_count": null,
   "id": "68631635",
   "metadata": {
    "deletable": false,
    "editable": false,
    "tags": []
   },
   "outputs": [],
   "source": [
    "# Initialize Otter\n",
    "import otter\n",
    "grader = otter.Notebook(\"PHYS 231 - Lab 5.ipynb\")"
   ]
  },
  {
   "cell_type": "markdown",
   "id": "0e2def01",
   "metadata": {
    "deletable": false,
    "editable": false,
    "tags": []
   },
   "source": [
    "***\n",
    "## Import Modules:\n",
    "Execute the cell below to import a number of useful pre-built Python modules that will be used in the PHYS 121 pre-labs and labs."
   ]
  },
  {
   "cell_type": "code",
   "execution_count": null,
   "id": "f8cfb089",
   "metadata": {
    "deletable": false
   },
   "outputs": [],
   "source": [
    "import numpy as np\n",
    "import matplotlib.pyplot as plt\n",
    "from matplotlib.pyplot import cm # used to generate a sequence of colours for plotting\n",
    "import pandas as pd\n",
    "import scipy.stats as sp\n",
    "from scipy.optimize import curve_fit\n",
    "from IPython.display import HTML as html_print\n",
    "from IPython.display import display, Markdown, Latex\n",
    "import uncertainties"
   ]
  },
  {
   "cell_type": "markdown",
   "id": "792eb123",
   "metadata": {
    "deletable": false,
    "editable": false,
    "tags": []
   },
   "source": [
    "# <div style=\"background-color:rgba(255, 204, 255, 0.5); text-align:center; vertical-align: middle; padding:40px 0; margin-top:30px\"><span style=\"color:rgba(102, 0, 204, 1);\">Name & Student Number</span></div>  \n",
    "\n",
    "To ensure that both you and your partner receive credit for you lab work, both your name and student number and your partner's name and student number need to appear in the notebooks used during the labs.  In the cells below this text, enter your name and student number and your partner's name and student number as strings (i.e. place your names and student numbers between single or double quotes.\n",
    "\n",
    "Examples of valid entries are:\n",
    "```python\n",
    "last_name_1 = 'Doe'\n",
    "first_name_1 = 'Jane'\n",
    "student_number_1 = '12345678'\n",
    "```\n",
    "and\n",
    "```python\n",
    "last_name_1 = \"Doe\"\n",
    "first_name_1 = \"John\"\n",
    "student_number_1 = \"12345678\"\n",
    "```"
   ]
  },
  {
   "cell_type": "markdown",
   "id": "bc149378",
   "metadata": {
    "deletable": false,
    "editable": false,
    "tags": []
   },
   "source": [
    "<!-- BEGIN QUESTION -->\n",
    "\n",
    "***\n",
    "### **<span style=\"color:blue\">Partner #1</span>** **<span style=\"color:red\">(0.5 marks)</span>** "
   ]
  },
  {
   "cell_type": "code",
   "execution_count": null,
   "id": "19808620",
   "metadata": {
    "tags": []
   },
   "outputs": [],
   "source": [
    "# Enter LAST name of partner 1.  Delete the ... below and type your entry between the single quotes.\n",
    "# Once you've completed your entry, press SHIFT + ENTER to execute the cell.\n",
    "# *** Please do not change anything to the left of the equals sign. ***\n",
    "last_name_1 = ..."
   ]
  },
  {
   "cell_type": "code",
   "execution_count": null,
   "id": "4a4e8507",
   "metadata": {
    "tags": []
   },
   "outputs": [],
   "source": [
    "# Enter FIRST name of partner 1.  Delete the ... below and type your entry between the single quotes.\n",
    "# Once you've completed your entry, press SHIFT + ENTER to execute the cell.\n",
    "# *** Please do not change anything to the left of the equals sign. ***\n",
    "first_name_1 = ..."
   ]
  },
  {
   "cell_type": "code",
   "execution_count": null,
   "id": "a1cf2756",
   "metadata": {
    "tags": []
   },
   "outputs": [],
   "source": [
    "# Enter STUDENT NUMBER of partner 1.  Delete the ... below and type your entry between the single quotes.\n",
    "# Once you've completed your entry, press SHIFT + ENTER to execute the cell.\n",
    "# *** Please do not change anything to the left of the equals sign. ***\n",
    "student_number_1 = ..."
   ]
  },
  {
   "cell_type": "markdown",
   "id": "941e2a23",
   "metadata": {
    "deletable": false,
    "editable": false,
    "tags": []
   },
   "source": [
    "***\n",
    "### **<span style=\"color:blue\">Partner #2</span>** **<span style=\"color:red\">(0.5 marks)</span>** \n",
    "If you are working on your own, leave all of last_name_2, first_name_2, and student_number_2 as ...  Please still exectute these cells and then run the 'grader.check(\"name_and_student_number_2\")' cell."
   ]
  },
  {
   "cell_type": "code",
   "execution_count": null,
   "id": "a4dc8f0e",
   "metadata": {
    "tags": []
   },
   "outputs": [],
   "source": [
    "# Enter LAST name of partner 2.  Delete the ... below and type your entry between the single quotes.\n",
    "# Once you've completed your entry, press SHIFT + ENTER to execute the cell.\n",
    "# *** Please do not change anything to the left of the equals sign. ***\n",
    "last_name_2 = ..."
   ]
  },
  {
   "cell_type": "code",
   "execution_count": null,
   "id": "85b3555e",
   "metadata": {
    "tags": []
   },
   "outputs": [],
   "source": [
    "# Enter FIRST name of partner 2.  Delete the ... below and type your entry between the single quotes.\n",
    "# Once you've completed your entry, press SHIFT + ENTER to execute the cell.\n",
    "# *** Please do not change anything to the left of the equals sign. ***\n",
    "first_name_2 = ..."
   ]
  },
  {
   "cell_type": "code",
   "execution_count": null,
   "id": "bb452dc6",
   "metadata": {
    "tags": []
   },
   "outputs": [],
   "source": [
    "# Enter STUDENT NUMBER of partner 2.  Delete the ... below and type your entry between the single quotes.\n",
    "# Once you've completed your entry, press SHIFT + ENTER to execute the cell.\n",
    "# *** Please do not change anything to the left of the equals sign. ***\n",
    "student_number_2 = ..."
   ]
  },
  {
   "cell_type": "code",
   "execution_count": null,
   "id": "dc609fe0",
   "metadata": {
    "deletable": false,
    "editable": false
   },
   "outputs": [],
   "source": [
    "grader.check(\"name_and_student_number\")"
   ]
  },
  {
   "cell_type": "markdown",
   "id": "1041aee0",
   "metadata": {
    "deletable": false,
    "editable": false,
    "tags": []
   },
   "source": [
    "<!-- END QUESTION -->\n",
    "\n",
    "# <div style=\"background-color:rgba(255, 204, 255, 0.5); text-align:center; vertical-align: middle; padding:40px 0; margin-top:30px\"><span style=\"color:rgba(102, 0, 204, 1);\">Part 1 - Oscilloscope Measurement of the Gain</span></div>\n",
    "\n",
    "## NumPy Arrays\n",
    "\n",
    "Data that you collect during the lab can be entered directly into a list using the following notation:\n",
    "\n",
    "```python\n",
    "x = [x0, x1, x2, x3, ..., xN]\n",
    "y = [y0, y1, y2, y3, ..., yN]\n",
    "```\n",
    "These lists will contain $N+1$ elements. It's usually more convenient to enter data into a NumPy array rather than a list because you can do mathematical operations on arrays that you can't do on lists.  For example:\n",
    "\n",
    "- squaring an array creates an new array with each of the elements from the original array squared\n",
    "- multiplying two arrays of the same length creates a new array in which the each elements is the product of the corresponding elements from the original arrays\n",
    "- ...\n",
    "\n",
    "NumPy arrays are entered using the following syntax:\n",
    "\n",
    "```python\n",
    "x = np.array([x0, x1, x2, x3, ..., xN])\n",
    "y = np.array([y0, y1, y2, y3, ..., yN])\n",
    "```             \n",
    "\n",
    "In the cell below, replace the \"...\" in NumPy array statements with your measurements of:\n",
    "\n",
    "- frequency in kHz\n",
    "- the amplitude of the signal from the function generator Vin in volts\n",
    "- the uncertainty in Vin in volts\n",
    "- the amplitude of the output voltage Vout in volts\n",
    "- the uncertainty in Vout in volts\n",
    "\n",
    "After executing the cell, the lengths of each of the arrays you've entered will be printed.  Make sure that all of the lengths are the same."
   ]
  },
  {
   "cell_type": "markdown",
   "id": "4139f808",
   "metadata": {
    "deletable": false,
    "editable": false,
    "tags": []
   },
   "source": [
    "<!-- BEGIN QUESTION -->\n",
    "\n",
    "***\n",
    "**<span style=\"color:blue\">Question 1.1</span>** **<span style=\"color:red\">(1 mark)</span>**  \n",
    "\n",
    "In the cell below, replace the ... with your data.  Collect enough data that you clearly observe distinct behaviours at low and high frequencies.  We suggest that you plot your data as you collect it.  Please enter your frequency data in **units of kHz**.\n",
    "\n",
    "*** Please do not change anything to the left of the equals sign. ***"
   ]
  },
  {
   "cell_type": "code",
   "execution_count": null,
   "id": "7e72a39b",
   "metadata": {
    "tags": []
   },
   "outputs": [],
   "source": [
    "frequency = np.array([..])\n",
    "Vin = np.array([...])\n",
    "errVin = np.array([...])\n",
    "Vout = np.array([...])\n",
    "errVout = np.array([...])\n",
    "\n",
    "\n",
    "# The statements below will print the lengths of the arrays.\n",
    "print(\"Length of frequency array:\", len(frequency))\n",
    "print(\"Length of Vin array:\", len(Vin))\n",
    "print(\"Length of errVin array:\", len(errVin))\n",
    "print(\"Length of Vout array:\", len(Vout))\n",
    "print(\"Length of errVout array:\", len(errVout))"
   ]
  },
  {
   "cell_type": "code",
   "execution_count": null,
   "id": "3feaff13",
   "metadata": {
    "deletable": false,
    "editable": false
   },
   "outputs": [],
   "source": [
    "grader.check(\"q1.1\")"
   ]
  },
  {
   "cell_type": "markdown",
   "id": "d5dc0d83",
   "metadata": {
    "deletable": false,
    "editable": false,
    "tags": []
   },
   "source": [
    "<!-- END QUESTION -->\n",
    "\n",
    "## Pandas DataFrames\n",
    "\n",
    "The Pandas package can be used to display your array data in a nicely-formated table.  The Pandas package creates \"DataFrames\" which are 2 dimensional data structures, like a 2 dimensional array, or a table with rows and columns.  The cell below creates and then displays a DataFrame using the arrays that you created in the cell above."
   ]
  },
  {
   "cell_type": "code",
   "execution_count": null,
   "id": "af5d2724",
   "metadata": {},
   "outputs": [],
   "source": [
    "# Create the data structure.\n",
    "data = {\n",
    "    \"frequnecy (kHz)\": frequency,\n",
    "    \"Vin (V)\": Vin,\n",
    "    \"errVin (V)\": errVin,\n",
    "    \"Vout (V)\": Vout,\n",
    "    \"errVout (V)\": errVout\n",
    "        }\n",
    "\n",
    "# An option to format the numbers in the DataFrame.\n",
    "pd.set_option('display.float_format', lambda x: '%0.3g' % x)\n",
    "\n",
    "#Display the data.\n",
    "pd.DataFrame(data)"
   ]
  },
  {
   "cell_type": "markdown",
   "id": "c6cd93f0",
   "metadata": {
    "deletable": false,
    "editable": false,
    "tags": []
   },
   "source": [
    "## $V_\\mathrm{out}/V_\\mathrm{in}$ versus $f$\n",
    "\n",
    "In the cells below, calculate:\n",
    "  \n",
    "- $G = V_\\mathrm{out}/V_\\mathrm{in}$\n",
    "- the uncertainty in $V_\\mathrm{out}/V_\\mathrm{in}$\n",
    "\n",
    "Here, $G$ represents the absolute value of the gain of the amplifier.  We'll assume the relative uncertainty in the frequency is negligible compared the relative uncertainties of the other relevant parameters.\n",
    "\n",
    "Recall propagation of errors.  If $y = f\\left(x1, x2, ..., x_N\\right)$ and $x_i\\pm\\Delta x_i$ for $i= 1...N$ are known, then:\n",
    "\n",
    "\\begin{align}\n",
    "\\Delta y = \\sqrt{\\left(\\frac{\\partial f}{\\partial x_1}\\Delta x_1\\right)^2 + \\left(\\frac{\\partial f}{\\partial x_2}\\Delta x_2\\right)^2 + ... + \\left(\\frac{\\partial f}{\\partial x_N}\\Delta x_N\\right)^2}\n",
    "\\end{align}"
   ]
  },
  {
   "cell_type": "markdown",
   "id": "766b1ac4",
   "metadata": {
    "deletable": false,
    "editable": false,
    "tags": []
   },
   "source": [
    "***\n",
    "**<span style=\"color:blue\">Question 1.2</span>** **<span style=\"color:red\">(2 marks)</span>**  \n",
    "\n",
    "In the cell below, replace the ... with expressions that complete the required calculations.\n",
    "\n",
    "*** Please do not change anything to the left of the equals sign. ***"
   ]
  },
  {
   "cell_type": "code",
   "execution_count": null,
   "id": "f4dc816c",
   "metadata": {
    "tags": []
   },
   "outputs": [],
   "source": [
    "# Calculate the gain G = Vout/Vin\n",
    "G = ...\n",
    "\n",
    "# Calculate the uncertainty in the gain errG.\n",
    "# Note that, in Python, NumPy can be used to access the square root function.  The syntax is np.sqrt(...).\n",
    "errG = ..."
   ]
  },
  {
   "cell_type": "code",
   "execution_count": null,
   "id": "94905f7c",
   "metadata": {
    "deletable": false,
    "editable": false
   },
   "outputs": [],
   "source": [
    "grader.check(\"q1.2\")"
   ]
  },
  {
   "cell_type": "markdown",
   "id": "96c3db53",
   "metadata": {
    "deletable": false,
    "editable": false,
    "tags": []
   },
   "source": [
    "### Plot the data\n",
    "\n",
    "The $V_\\mathrm{out}/V_\\mathrm{in}$ data can now be plotted as a function of frequency."
   ]
  },
  {
   "cell_type": "markdown",
   "id": "4d2f067f",
   "metadata": {
    "deletable": false,
    "editable": false,
    "tags": []
   },
   "source": [
    "<!-- BEGIN QUESTION -->\n",
    "\n",
    "***\n",
    "**<span style=\"color:blue\">Question 1.3</span>** **<span style=\"color:red\">(1 mark)</span>**  \n",
    "\n",
    "In the cell below, replace the ... with the appropriate data to generate a plot of $G$ versus frequency.  Be sure to include errror bars.\n",
    "\n",
    "For additional information about the 'Scatter()' function, see **Appendix A** near the end of this notebook. \n",
    "\n",
    "*** Please do not change anything to the left of the equals sign. ***"
   ]
  },
  {
   "cell_type": "code",
   "execution_count": null,
   "id": "7f93c53c",
   "metadata": {
    "tags": []
   },
   "outputs": [],
   "source": [
    "PHYS231.Scatter(xData = ..., \n",
    "                yData = ..., \n",
    "                yErrors = ...,\n",
    "                xlabel = 'frequency', \n",
    "                ylabel = 'Gain', \n",
    "                xUnits = 'kHz', \n",
    "                yUnits = '');"
   ]
  },
  {
   "cell_type": "markdown",
   "id": "ca5842b0",
   "metadata": {
    "deletable": false,
    "editable": false,
    "tags": []
   },
   "source": [
    "<!-- END QUESTION -->\n",
    "\n",
    "## log-log Plots\n",
    "\n",
    "When measuring the response of a system (the gain of the amplifier, in this case) over a wide range of stimulus values (frequency, in this case) it is sometimes convenient to look at the data using *log-log plots*.  In this lab, such a plot will allow us to look for differences in the low-frequency and high-frequency response of the amplifier circuit.\n",
    "\n",
    "In the cells below, we calculate the log of the the amplifier's gain ($G = V_\\mathrm{out}/V_\\mathrm{in}$) and the log of frequency.  All you need to do is execute the cells below."
   ]
  },
  {
   "cell_type": "code",
   "execution_count": null,
   "id": "0b6fc9fe",
   "metadata": {},
   "outputs": [],
   "source": [
    "logf = np.log10(frequency)\n",
    "logG = np.log10(G)"
   ]
  },
  {
   "cell_type": "markdown",
   "id": "e6d396eb",
   "metadata": {
    "deletable": false,
    "editable": false,
    "tags": []
   },
   "source": [
    "To calculate the error in the log of the gain, first note that if:\n",
    "$$\n",
    "y= \\log x,\n",
    "$$\n",
    "Then:\n",
    "$$\n",
    "x = 10^y,\n",
    "$$\n",
    "such that:\n",
    "$$\n",
    "\\ln x=\\ln\\left(10^y\\right)=y\\ln 10.\n",
    "$$\n",
    "Therefore, it must be the case that:\n",
    "$$\n",
    "y=\\log x=\\frac{1}{\\ln 10}\\ln x,\n",
    "$$\n",
    "which allows us to us propagation of errors to deduce that:\n",
    "$$\n",
    "\\Delta y = \\frac{1}{\\ln 10}\\left(\\frac{\\Delta x}{x}\\right).\n",
    "$$\n",
    "In the cell below, enter an expression to calculate the uncertainty in the log of the gain."
   ]
  },
  {
   "cell_type": "markdown",
   "id": "e5238069",
   "metadata": {
    "deletable": false,
    "editable": false,
    "tags": []
   },
   "source": [
    "***\n",
    "**<span style=\"color:blue\">Question 1.4</span>** **<span style=\"color:red\">(1 mark)</span>**  \n",
    "\n",
    "In the cell below, replace the ... with the appropriate expression to calculate the uncertainty in $\\log G$. \n",
    "\n",
    "*** Please do not change anything to the left of the equals sign. ***"
   ]
  },
  {
   "cell_type": "code",
   "execution_count": null,
   "id": "ab0f20d2",
   "metadata": {
    "tags": []
   },
   "outputs": [],
   "source": [
    "# Note that, in Python, np.log(x) represents ln(x) (natural logarithm, base e) and np.log10(x) represents log(x) (base 10 logarithm).\n",
    "errlogG = ..."
   ]
  },
  {
   "cell_type": "code",
   "execution_count": null,
   "id": "8e42dbbf",
   "metadata": {
    "deletable": false,
    "editable": false
   },
   "outputs": [],
   "source": [
    "grader.check(\"q1.4\")"
   ]
  },
  {
   "cell_type": "markdown",
   "id": "7c4ecf1b",
   "metadata": {
    "deletable": false,
    "editable": false,
    "tags": []
   },
   "source": [
    "### Plot the $\\log G$ vs $log f$\n",
    "\n",
    "The $\\log G$ data can now be plotted as a function of $\\log f$.  Execute the cell below to create a scatter plot with error bars.  For additional information about the 'Scatter' function, see **Appendix A** near the end of this notebook. "
   ]
  },
  {
   "cell_type": "code",
   "execution_count": null,
   "id": "e6ae4e07",
   "metadata": {},
   "outputs": [],
   "source": [
    "PHYS231.Scatter(\n",
    "    xData = logf,\n",
    "    yData = logG,\n",
    "    yErrors = errlogG,\n",
    "    xlabel = \"log f\",\n",
    "    ylabel = \"log G\",\n",
    "    xUnits = \"\",\n",
    "    yUnits = \"\",\n",
    ");"
   ]
  },
  {
   "cell_type": "markdown",
   "id": "31872065",
   "metadata": {
    "deletable": false,
    "editable": false,
    "tags": []
   },
   "source": [
    "## Linear Fit\n",
    "\n",
    "You should have found that the high-frequency portion of your $\\log G$ versus $\\log f$ plot is linear with a negative slope.  The final bit of analysis that we'll do is to:\n",
    "\n",
    " - select the part of the data that is linear\n",
    " - find the slope of the linear section\n",
    "\n",
    "First, we'll sort the data in the order of increasing values of $\\log f$."
   ]
  },
  {
   "cell_type": "code",
   "execution_count": null,
   "id": "8974119d",
   "metadata": {},
   "outputs": [],
   "source": [
    "inds = logf.argsort()\n",
    "logf_sorted = logf[inds]\n",
    "logG_sorted = logG[inds]\n",
    "errlogG_sorted = errlogG[inds]\n",
    "\n",
    "# Let's look at the contents of the sorted data in Pandas dataframe.\n",
    "sortedData = {\n",
    "    \"log f\": logf_sorted,\n",
    "    \"log G\": logG_sorted,\n",
    "    \"errlog G\": errlogG_sorted,\n",
    "        }\n",
    "\n",
    "# An option to format the numbers in the DataFrame.\n",
    "pd.set_option('display.float_format', lambda x: '%0.3g' % x)\n",
    "\n",
    "#Display the data.\n",
    "pd.DataFrame(sortedData)"
   ]
  },
  {
   "cell_type": "markdown",
   "id": "0381a950",
   "metadata": {
    "deletable": false,
    "editable": false,
    "tags": []
   },
   "source": [
    "Now select the part of the data that will used for the linear fit.  Adjust the start and stop values until the plot shows only the high-frequency linear portion of the data.  You may have to try a few different combinations of start and stop until you obtain the correct portion of linear data."
   ]
  },
  {
   "cell_type": "markdown",
   "id": "6f12775a",
   "metadata": {
    "deletable": false,
    "editable": false,
    "tags": []
   },
   "source": [
    "<!-- BEGIN QUESTION -->\n",
    "\n",
    "***\n",
    "**<span style=\"color:blue\">Question 1.5</span>** **<span style=\"color:red\">(1 mark)</span>**  \n",
    "\n",
    "In the cell below, replace the ... with the appropriate start and stop values. \n",
    "\n",
    "*** Please do not change anything to the left of the equals sign. ***"
   ]
  },
  {
   "cell_type": "code",
   "execution_count": null,
   "id": "61ec433d",
   "metadata": {
    "tags": []
   },
   "outputs": [],
   "source": [
    "# Set the limits.\n",
    "start = ...\n",
    "stop = ...\n",
    "\n",
    "# Cut the data.\n",
    "logf_cut = logf_sorted[start:stop]\n",
    "logG_cut = logG_sorted[start:stop]\n",
    "errlogG_cut = errlogG_sorted[start:stop]\n",
    "\n",
    "# Plot the cut data.\n",
    "fig3 = PHYS231.Scatter(\n",
    "    xData = logf_cut,\n",
    "    yData = logG_cut,\n",
    "    yErrors = errlogG_cut,\n",
    "    xlabel = \"log f\",\n",
    "    ylabel = \"log G\",\n",
    "    xUnits = \"\",\n",
    "    yUnits = \"\",\n",
    ")"
   ]
  },
  {
   "cell_type": "markdown",
   "id": "6d85b918",
   "metadata": {
    "deletable": false,
    "editable": false,
    "tags": []
   },
   "source": [
    "<!-- END QUESTION -->\n",
    "\n",
    "## Linear Fits\n",
    "\n",
    "The final thing that we'll do is fit a straight line through the cut data.  We'll use the 'LinearFit' contained in PHYS231.py to complete this task.  The function call to perform a weighted fit is:\n",
    "```python\n",
    "m, b, dm, db, fig = PHYS231.LinearFit(t, y, erry)\n",
    "```\n",
    "A weighted fit with a formatted plot can be called by using some of the other available arguments:\n",
    "```python\n",
    "m, b, dm, db, fig = PHYS231.LinearFit(xData = t, yData = y, yErrors = erry, xlabel = 'time', ylabel = 'position', xUnits = 's', yUnits = 'm')\n",
    "```\n",
    "\n",
    "For additional information about the 'LinearFit' function, see **Appendix B** near the end of this notebook. "
   ]
  },
  {
   "cell_type": "markdown",
   "id": "5f1eab61",
   "metadata": {
    "deletable": false,
    "editable": false,
    "tags": []
   },
   "source": [
    "<!-- BEGIN QUESTION -->\n",
    "\n",
    "***\n",
    "**<span style=\"color:blue\">Question 1.6</span>** **<span style=\"color:red\">(1 mark)</span>**  \n",
    "\n",
    "In the cell below, replace the ... with appropriate data to complete the weighted linear fit to the high-frequency portion of $\\log G$ versus frequency.\n",
    "\n",
    "*** Please do not change anything to the left of the equals sign. ***"
   ]
  },
  {
   "cell_type": "code",
   "execution_count": null,
   "id": "324ff9cb",
   "metadata": {
    "tags": []
   },
   "outputs": [],
   "source": [
    "m, b, dm, db, fig = PHYS231.LinearFit(\n",
    "    xData = ..., \n",
    "    yData = ..., \n",
    "    yErrors = ..., \n",
    "    xlabel = \"log f\",\n",
    "    ylabel = \"log G\",\n",
    "    xUnits = \"\",\n",
    "    yUnits = \"\",\n",
    ")"
   ]
  },
  {
   "cell_type": "markdown",
   "id": "a63d69e5",
   "metadata": {
    "deletable": false,
    "editable": false,
    "tags": []
   },
   "source": [
    "<!-- END QUESTION -->\n",
    "\n",
    "# <div style=\"background-color:rgba(255, 204, 255, 0.5); text-align:center; vertical-align: middle; padding:40px 0; margin-top:30px\"><span style=\"color:rgba(102, 0, 204, 1);\">Part 2 - Feedback and Submission</span></div>"
   ]
  },
  {
   "cell_type": "markdown",
   "id": "b2f27ea9",
   "metadata": {
    "deletable": false,
    "editable": false,
    "tags": []
   },
   "source": [
    "<!-- BEGIN QUESTION -->\n",
    "\n",
    "***\n",
    "**<span style=\"color:blue\">Question 2.1:</span>**  \n",
    "\n",
    "We welcome your feedback on the PHYS 231 labs!  Please feel free to include any comments you have about this lab in the cell below.  Your comments will be taken into consideration when revising/improving the PHYS 231 labs.  You can suggest improvements, point out anything that was unclear, comment on the strengths and weaknesses of the lab, ...\n",
    "\n",
    "This question is optional and will have no impact on your lab grade."
   ]
  },
  {
   "cell_type": "markdown",
   "id": "76872108",
   "metadata": {},
   "source": [
    "***\n",
    "**<span style=\"color:blue\">Answer 2.1:</span>**\n",
    "\n",
    "[//]: # (Please do not delete this comment or anything above it.  Anything below this comment can be deleted.)  \n",
    "\n",
    "Double click this cell to enter your comments.  This text can be deleted."
   ]
  },
  {
   "cell_type": "markdown",
   "id": "3335e2ed",
   "metadata": {
    "deletable": false,
    "editable": false,
    "tags": []
   },
   "source": [
    "<!-- END QUESTION -->\n",
    "\n",
    "---\n",
    "\n",
    "To double-check your work, the cell below will rerun all of the autograder tests."
   ]
  },
  {
   "cell_type": "code",
   "execution_count": null,
   "id": "65e75ba7",
   "metadata": {
    "deletable": false,
    "editable": false,
    "tags": []
   },
   "outputs": [],
   "source": [
    "grader.check_all()"
   ]
  },
  {
   "cell_type": "markdown",
   "id": "7c8a1daa",
   "metadata": {
    "deletable": false,
    "editable": false,
    "tags": []
   },
   "source": [
    "***\n",
    "\n",
    "## Submission\n",
    "\n",
    "Make sure you have run all cells in your notebook in order before running the cell below, so that all images/graphs appear in the output. The cell below will generate a zip file for you to submit. **Please save before exporting!**\n",
    "\n",
    "Once you've completed this notebook:\n",
    "- Save your work.\n",
    "- Run 'grader.export()' to generate a .zip file containing all of the materials that you will submit.\n",
    "- Download the generated .zip file.\n",
    "- Upload the .zip file to the PHYS 121 Canvas gradebook.\n",
    "\n",
    "Here is a <a href = \"https://raw.githubusercontent.com/UBC-Okanagan-Physics-Labs/PHYS-121-images/main/general/gifs/Submission.gif\">GIF</a> showing how these steps are completed.  Once your completed notebook has been uploaded to the Canvas gradebook, you're done!"
   ]
  },
  {
   "cell_type": "code",
   "execution_count": null,
   "id": "6678b2c0",
   "metadata": {
    "deletable": false,
    "editable": false,
    "tags": []
   },
   "outputs": [],
   "source": [
    "# Save your notebook first, then run this cell (place your cursor in the cell and then hit Shift + Enter) to export \n",
    "# your submission.  Uploaded the .zip file that is generated to the gradebook of the Canvas shell for the PHYS 121 lab.\n",
    "grader.export()"
   ]
  },
  {
   "cell_type": "markdown",
   "id": "26b6aaff",
   "metadata": {
    "deletable": false,
    "editable": false,
    "tags": []
   },
   "source": [
    "# <div style=\"background-color:rgba(255, 204, 255, 0.5); text-align:center; vertical-align: middle; padding:40px 0; margin-top:30px\"><span style=\"color:rgba(102, 0, 204, 1);\">Part 3 - Playground (optional)</span></div>\n",
    "\n",
    "Feel free to add as many cells as you like below and use them as a playground for further independent investigations.  These cells won't be graded, so feel free to use them in any way that you like.  "
   ]
  },
  {
   "cell_type": "code",
   "execution_count": null,
   "id": "0c5870ba",
   "metadata": {},
   "outputs": [],
   "source": [
    "# Here's an empty code cell that you can use."
   ]
  },
  {
   "cell_type": "code",
   "execution_count": null,
   "id": "a3c8ae4c",
   "metadata": {},
   "outputs": [],
   "source": [
    "# Here's another empty code cell that you can use."
   ]
  },
  {
   "cell_type": "code",
   "execution_count": null,
   "id": "f03ea080",
   "metadata": {},
   "outputs": [],
   "source": [
    "# Here's yet another empty code cell that you can use.\n",
    "# If you need more, you can add cells using the '+' icon in the menu bar at to the top of the screen."
   ]
  },
  {
   "cell_type": "markdown",
   "id": "59bb8346",
   "metadata": {
    "deletable": false,
    "editable": false,
    "tags": []
   },
   "source": [
    "### <div style=\"background-color:rgba(255, 255, 102, 0.5); text-align:left; padding:20px 0; margin-top:20px\">$\\quad$Appendix A &ndash; The Scatter Function...</div>\n",
    "\n",
    "The function for generating scatter plots is called as follows:\n",
    "```python\n",
    "PHYS231.Scatter(xData, yData, yErrors = [], xlabel = 'x-axis', ylabel = 'y-axis', xUnits = '', yUnits = '', fill = False, show = True)\n",
    "```\n",
    "The 'xData' and 'yData' inputs are required, all other arguments are optional with default values set.  The function returns the a single output (the formatted plot):\n",
    "```python\n",
    "fig\n",
    "```\n",
    "\n",
    "The function will do a simple scatter plot if no 'yError' are included.  It will included error bars if 'yErrors' are passed to the function.  The 'fill' and 'show' arguments should generally be false.  \n",
    "\n",
    "If the 'xData' list is empty, as in:\n",
    "```python\n",
    "xData = []\n",
    "```\n",
    "then the x-axis will be the trial number.  For example, is 'xData' is empty and 'yData' has 10 elements, the x-axis will span 1 to 10.\n",
    "\n",
    "### Scatter Example Implmentation\n",
    "The code block below shows an implementation of 'Scatter'.\n",
    "```python\n",
    "import PHYS231\n",
    "theta = [10, 20, 30] # degrees\n",
    "T = [2.02, 1.95, 2.13] # s\n",
    "errT = [0.02, 0.02, 0.03] # s\n",
    "fig = PHYS231.Scatter(theta, T, errT, 'initial angle' , 'period', 'degrees', 's')\n",
    "```\n",
    "\n",
    "If you're interested in generating your own plots with customized formatting, see the following Python-based plotting tutorial: https://cmps-people.ok.ubc.ca/jbobowsk/Python/html/Jupyter%20Basic%20Plots.html.\n",
    "***"
   ]
  },
  {
   "cell_type": "markdown",
   "id": "2d556cc5",
   "metadata": {
    "deletable": false,
    "editable": false,
    "tags": []
   },
   "source": [
    "### <div style=\"background-color:rgba(255, 255, 102, 0.5); text-align:left; padding:20px 0; margin-top:20px\">$\\quad$Appendix B &ndash; The LinearFit Function...</div>\n",
    "\n",
    "The linear-fit function is called as follows:\n",
    "```python\n",
    "PHYS231.LinearFit(xData, yData, yErrors = [], xlabel = 'x-axis', ylabel = 'y-axis', xUnits = '', yUnits = '', fill = False)\n",
    "```\n",
    "The xData and yData lists are required.  The others are optional with default values set.  The function returns the following outputs:\n",
    "```python\n",
    "Slope, Yintercept, errSlope, errYintercept, fig\n",
    "```\n",
    "The first four outputs are numerical values and 'fig' is the formatted plot. \n",
    "\n",
    "If $y$-uncertainities are provided, the function will perform a weighted fit.  The $y$-uncertainties list must be the same length as $x$- and $y$-data lists.  If $y$-uncertainties are not provided, the fit will be unweighted.  The other optional arguments include $x$- and $y$-axis names and units for the $x$- and $y$-datasets.  These must be entered as strings (enclosed in quotations) and they are used for formatting the outputs of the function.  If 'fill' is set to True, shading will be added around the best-fit line representing confindence intervals. \n",
    "\n",
    "### Unweighted Fit Example Implmentation\n",
    "The code block below shows the most basic use of 'LinearFit' for an unweighted fit without any of the optional arguments.\n",
    "```python\n",
    "import PHYS231\n",
    "V = [1, 2, 3, 4]\n",
    "I = [0.12, 0.198, 0.285, 0.412]\n",
    "m, b, dm, db, fig = PHYS231.LinearFit(V, I)\n",
    "```\n",
    "\n",
    "### Weighted Fit Example Implmentation\n",
    "This second blcok of code shows how to use 'LinearFit' to do a weighted fit.  It also makes use of all of the other optional arguments.  \n",
    "```python\n",
    "import PHYS231\n",
    "V = [1, 2, 3, 4]\n",
    "I = [0.12, 0.198, 0.285, 0.412]\n",
    "errI = [0.005, 0.012, 0.020, 0.025]\n",
    "m, b, dm, db, fig = PHYS231.LinearFit(V, I, errI, 'voltage' , 'current', 'V', 'A', True)\n",
    "```\n",
    "\n",
    "The 'm, b, dm, db, fig = ...' syntax is used to store the function outputs in varibles.  If you're interested in details of the fitting process, see the following Python-based tutorial: https://cmps-people.ok.ubc.ca/jbobowsk/Python/html/Jupyter%20Weighted%20Linear%20Fit.html\n",
    "***"
   ]
  },
  {
   "cell_type": "markdown",
   "id": "6614331b",
   "metadata": {
    "deletable": false,
    "editable": false,
    "tags": []
   },
   "source": [
    "<img src=\"https://raw.githubusercontent.com/UBC-Okanagan-Physics-Labs/PHYS-121-images/main/general/images/ubc-logo-full.jpg\" width=\"500\"/>"
   ]
  },
  {
   "cell_type": "markdown",
   "id": "4181482a",
   "metadata": {
    "deletable": false,
    "editable": true,
    "tags": []
   },
   "source": [
    "Last update: October 29, 2023"
   ]
  }
 ],
 "metadata": {
  "celltoolbar": "Edit Metadata",
  "kernelspec": {
   "display_name": "Python 3 (ipykernel)",
   "language": "python",
   "name": "python3"
  },
  "language_info": {
   "codemirror_mode": {
    "name": "ipython",
    "version": 3
   },
   "file_extension": ".py",
   "mimetype": "text/x-python",
   "name": "python",
   "nbconvert_exporter": "python",
   "pygments_lexer": "ipython3",
   "version": "3.10.6"
  },
  "otter": {
   "OK_FORMAT": true,
   "tests": {
    "name_and_student_number": {
     "name": "name_and_student_number",
     "points": null,
     "suites": [
      {
       "cases": [
        {
         "code": ">>> isinstance(last_name_1, str)\nTrue",
         "failure_message": "last_name_1 must be a string (i.e. surround your answer by either single or double quotes).",
         "hidden": false,
         "locked": false,
         "points": 0
        },
        {
         "code": ">>> isinstance(first_name_1, str)\nTrue",
         "failure_message": "first_name_1 must be a string (i.e. surround your answer by either single or double quotes).",
         "hidden": false,
         "locked": false,
         "points": 0
        },
        {
         "code": ">>> isinstance(student_number_1, str)\nTrue",
         "failure_message": "student_number_1 must be a string (i.e. surround your answer by either single or double quotes).",
         "hidden": false,
         "locked": false,
         "points": 0
        },
        {
         "code": ">>> test = True\n>>> if isinstance(student_number_1, str):\n...     test = len(student_number_1) == 8\n>>> test\nTrue",
         "failure_message": "student_number_1 must be a string of exactly 8 characters.",
         "hidden": false,
         "locked": false,
         "points": 0
        },
        {
         "code": ">>> test = True\n>>> if isinstance(student_number_1, str):\n...     test = student_number_1.isdigit()\n>>> test\nTrue",
         "failure_message": "student_number_1 must contain only interger digits (0, 1, 2, 3, ..., 9)",
         "hidden": false,
         "locked": false,
         "points": 0.5
        },
        {
         "code": ">>> isinstance(last_name_2, str) or last_name_2 == ...\nTrue",
         "failure_message": "last_name_2 must be a string (i.e. surround your answer by either single or double quotes).",
         "hidden": false,
         "locked": false,
         "points": 0
        },
        {
         "code": ">>> isinstance(first_name_2, str) or first_name_2 == ...\nTrue",
         "failure_message": "first_name_2 must be a string (i.e. surround your answer by either single or double quotes).",
         "hidden": false,
         "locked": false,
         "points": 0
        },
        {
         "code": ">>> isinstance(student_number_2, str) or student_number_2 == ...\nTrue",
         "failure_message": "student_number_2 must be a string (i.e. surround your answer by either single or double quotes).",
         "hidden": false,
         "locked": false,
         "points": 0
        },
        {
         "code": ">>> test = True\n>>> if isinstance(student_number_2, str):\n...     test = len(student_number_2) == 8\n>>> test\nTrue",
         "failure_message": "student_number_2 must be a string of exactly 8 characters or be left as ...",
         "hidden": false,
         "locked": false,
         "points": 0
        },
        {
         "code": ">>> test = True\n>>> if isinstance(student_number_2, str):\n...     test = student_number_2.isdigit()\n>>> test\nTrue",
         "failure_message": "student_number_2 must contain only interger digits (0, 1, 2, 3, ..., 9) or be left as ...",
         "hidden": false,
         "locked": false,
         "points": 0.5
        }
       ],
       "scored": true,
       "setup": "",
       "teardown": "",
       "type": "doctest"
      }
     ]
    },
    "q1.1": {
     "name": "q1.1",
     "points": null,
     "suites": [
      {
       "cases": [
        {
         "code": ">>> len(frequency) == len(Vin)\nTrue",
         "failure_message": "Your frequency and Vin lists are different lengths.",
         "hidden": false,
         "locked": false,
         "points": 0
        },
        {
         "code": ">>> len(frequency) == len(errVin)\nTrue",
         "failure_message": "Your frequency and errVin lists are different lengths.",
         "hidden": false,
         "locked": false,
         "points": 0
        },
        {
         "code": ">>> len(frequency) == len(Vout)\nTrue",
         "failure_message": "Your frequency and Vout lists are different lengths.",
         "hidden": false,
         "locked": false,
         "points": 0
        },
        {
         "code": ">>> len(frequency) == len(errVout)\nTrue",
         "failure_message": "Your frequency and errVout lists are different lengths.",
         "hidden": false,
         "locked": false,
         "points": 0
        },
        {
         "code": ">>> len(Vin) == len(errVin)\nTrue",
         "failure_message": "Your Vin and errVin lists are different lengths.",
         "hidden": false,
         "locked": false,
         "points": 0
        },
        {
         "code": ">>> len(Vin) == len(Vout)\nTrue",
         "failure_message": "Your Vin and Vout lists are different lengths.",
         "hidden": false,
         "locked": false,
         "points": 0
        },
        {
         "code": ">>> len(Vin) == len(errVout)\nTrue",
         "failure_message": "Your Vin and errVout lists are different lengths.",
         "hidden": false,
         "locked": false,
         "points": 0
        },
        {
         "code": ">>> len(errVin) == len(Vout)\nTrue",
         "failure_message": "Your errVin and Vout lists are different lengths.",
         "hidden": false,
         "locked": false,
         "points": 0
        },
        {
         "code": ">>> len(errVin) == len(errVout)\nTrue",
         "failure_message": "Your errVin and errVout lists are different lengths.",
         "hidden": false,
         "locked": false,
         "points": 0
        },
        {
         "code": ">>> len(Vout) == len(errVout)\nTrue",
         "failure_message": "Your Vout and errVout lists are different lengths.",
         "hidden": false,
         "locked": false,
         "points": 0
        }
       ],
       "scored": true,
       "setup": "",
       "teardown": "",
       "type": "doctest"
      }
     ]
    },
    "q1.2": {
     "name": "q1.2",
     "points": null,
     "suites": [
      {
       "cases": [
        {
         "code": ">>> len(G) != 0\nTrue",
         "failure_message": "The G array is empty.",
         "hidden": false,
         "locked": false,
         "points": 0
        },
        {
         "code": ">>> all(np.isclose(G, Vout/Vin, atol = 0, rtol = 0.01))\nTrue",
         "failure_message": "Double check your calculation of G.",
         "hidden": false,
         "locked": false,
         "points": 1
        },
        {
         "code": ">>> len(errG) != 0\nTrue",
         "failure_message": "The errG array is empty.",
         "hidden": false,
         "locked": false,
         "points": 0
        },
        {
         "code": ">>> all(np.isclose(errG, np.sqrt((errVout/Vin)**2 + (Vout*errVin/Vin**2)**2), rtol = 0.01))\nTrue",
         "failure_message": "Double check your calculation of errG.",
         "hidden": false,
         "locked": false,
         "points": 1
        }
       ],
       "scored": true,
       "setup": "",
       "teardown": "",
       "type": "doctest"
      }
     ]
    },
    "q1.4": {
     "name": "q1.4",
     "points": null,
     "suites": [
      {
       "cases": [
        {
         "code": ">>> len(errlogG) != 0\nTrue",
         "failure_message": "The errG array is empty.",
         "hidden": false,
         "locked": false,
         "points": 0
        },
        {
         "code": ">>> all(np.isclose(errlogG, (1/np.log(10))*(errG/G), atol = 0, rtol = 0.01))\nTrue",
         "failure_message": "Double check your calculation of errlogG.",
         "hidden": false,
         "locked": false,
         "points": 1
        }
       ],
       "scored": true,
       "setup": "",
       "teardown": "",
       "type": "doctest"
      }
     ]
    }
   }
  },
  "vscode": {
   "interpreter": {
    "hash": "a1ce1a55934a23fd40442cf0356ecbdd657c4299d40a67360326f76004edb0e0"
   }
  }
 },
 "nbformat": 4,
 "nbformat_minor": 5
}
